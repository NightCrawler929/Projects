{
 "cells": [
  {
   "cell_type": "markdown",
   "metadata": {
    "collapsed": true
   },
   "source": [
    "# Profitable App Development for the App Store and Google Play Markets\n",
    "\n",
    "Our aim is to generate revenue from apps through ads.So it is necessary to explore what kind of apps that the end-users uses frequenty. So by analyzing the data, it gives a clear idea regarding what kind of apps can be devloped in android and iOS that attracts more users."
   ]
  },
  {
   "cell_type": "code",
   "execution_count": 1,
   "metadata": {
    "collapsed": true
   },
   "outputs": [],
   "source": [
    "from csv import reader\n",
    "\n",
    "#Google Play Store Dataset\n",
    "open_file_android = open('googleplaystore.csv')\n",
    "read_file_android = reader(open_file_android)\n",
    "android_list = list(read_file_android)\n",
    "android_header = android_list[0]\n",
    "android = android_list[1:]\n",
    "\n",
    "#App Store Dataset\n",
    "open_file_iOS = open('AppleStore.csv')\n",
    "read_file_iOS = reader(open_file_iOS)\n",
    "iOS_list = list(read_file_iOS)\n",
    "iOS_header = iOS_list[0]\n",
    "iOS = iOS_list[1:]\n",
    "\n",
    "    "
   ]
  },
  {
   "cell_type": "code",
   "execution_count": 2,
   "metadata": {
    "collapsed": false,
    "scrolled": true
   },
   "outputs": [],
   "source": [
    "#Initial analyse of data \n",
    "def explore_data(data_set, start, end, rows_and_columns = False):\n",
    "    for app_details in data_set[start:end]:\n",
    "        print(app_details)\n",
    "        print('\\n')\n",
    "\n",
    "    if rows_and_columns:\n",
    "        print('Number of rows : ', len(data_set))\n",
    "        print('Number of columns : ', len(data_set[0]))        "
   ]
  },
  {
   "cell_type": "code",
   "execution_count": 3,
   "metadata": {
    "collapsed": false,
    "scrolled": false
   },
   "outputs": [
    {
     "name": "stdout",
     "output_type": "stream",
     "text": [
      "Android Header\n",
      "\n",
      "\n",
      "['App', 'Category', 'Rating', 'Reviews', 'Size', 'Installs', 'Type', 'Price', 'Content Rating', 'Genres', 'Last Updated', 'Current Ver', 'Android Ver']\n",
      "\n",
      "\n",
      "['Coloring book moana', 'ART_AND_DESIGN', '3.9', '967', '14M', '500,000+', 'Free', '0', 'Everyone', 'Art & Design;Pretend Play', 'January 15, 2018', '2.0.0', '4.0.3 and up']\n",
      "\n",
      "\n",
      "['U Launcher Lite – FREE Live Cool Themes, Hide Apps', 'ART_AND_DESIGN', '4.7', '87510', '8.7M', '5,000,000+', 'Free', '0', 'Everyone', 'Art & Design', 'August 1, 2018', '1.2.4', '4.0.3 and up']\n",
      "\n",
      "\n",
      "Number of rows :  10841\n",
      "Number of columns :  13\n",
      "\n",
      "\n",
      "iOS Header\n",
      "\n",
      "\n",
      "['id', 'track_name', 'size_bytes', 'currency', 'price', 'rating_count_tot', 'rating_count_ver', 'user_rating', 'user_rating_ver', 'ver', 'cont_rating', 'prime_genre', 'sup_devices.num', 'ipadSc_urls.num', 'lang.num', 'vpp_lic']\n",
      "\n",
      "\n",
      "['284882215', 'Facebook', '389879808', 'USD', '0.0', '2974676', '212', '3.5', '3.5', '95.0', '4+', 'Social Networking', '37', '1', '29', '1']\n",
      "\n",
      "\n",
      "['389801252', 'Instagram', '113954816', 'USD', '0.0', '2161558', '1289', '4.5', '4.0', '10.23', '12+', 'Photo & Video', '37', '0', '29', '1']\n",
      "\n",
      "\n",
      "Number of rows :  7197\n",
      "Number of columns :  16\n"
     ]
    }
   ],
   "source": [
    "print(\"Android Header\")\n",
    "print('\\n')\n",
    "print(android_header)\n",
    "print('\\n')\n",
    "#Android App Details (Sample)\n",
    "explore_data(android,1,3,True)\n",
    "print('\\n')\n",
    "print(\"iOS Header\")\n",
    "print('\\n')\n",
    "print(iOS_header)\n",
    "print('\\n')\n",
    "#iOS App Details (Sample)\n",
    "explore_data(iOS,0,2,True)\n"
   ]
  },
  {
   "cell_type": "markdown",
   "metadata": {},
   "source": [
    "**Note:** If the app headers are not clear, kindly find the below link for more details.\n",
    "\n",
    "1. Android Apps - [Link](https://www.kaggle.com/lava18/google-play-store-apps/home)\n",
    "2. iOS Apps     - [Link](https://www.kaggle.com/ramamet4/app-store-apple-data-set-10k-apps/home)     "
   ]
  },
  {
   "cell_type": "code",
   "execution_count": 4,
   "metadata": {
    "collapsed": false
   },
   "outputs": [
    {
     "name": "stdout",
     "output_type": "stream",
     "text": [
      "Android Header\n",
      "\n",
      "\n",
      "['App', 'Category', 'Rating', 'Reviews', 'Size', 'Installs', 'Type', 'Price', 'Content Rating', 'Genres', 'Last Updated', 'Current Ver', 'Android Ver']\n",
      "\n",
      "\n",
      "['Life Made WI-Fi Touchscreen Photo Frame', '1.9', '19', '3.0M', '1,000+', 'Free', '0', 'Everyone', '', 'February 11, 2018', '1.0.19', '4.0 and up']\n",
      "10841\n",
      "10840\n"
     ]
    }
   ],
   "source": [
    "#From the discussion through the link mentioned above, a particular list \n",
    "#list is been deleted\n",
    "print(\"Android Header\")\n",
    "print('\\n')\n",
    "print(android_header)\n",
    "print('\\n')\n",
    "#Incorrect app detail\n",
    "print(android[10472])\n",
    "#Length of the dataset before delete\n",
    "print(len(android))\n",
    "del android[10472] \n",
    "#Length of the dataset after delete\n",
    "print(len(android))\n"
   ]
  },
  {
   "cell_type": "code",
   "execution_count": 5,
   "metadata": {
    "collapsed": false
   },
   "outputs": [
    {
     "name": "stdout",
     "output_type": "stream",
     "text": [
      "['Instagram', 'SOCIAL', '4.5', '66577313', 'Varies with device', '1,000,000,000+', 'Free', '0', 'Teen', 'Social', 'July 31, 2018', 'Varies with device', 'Varies with device']\n",
      "['Instagram', 'SOCIAL', '4.5', '66577446', 'Varies with device', '1,000,000,000+', 'Free', '0', 'Teen', 'Social', 'July 31, 2018', 'Varies with device', 'Varies with device']\n",
      "['Instagram', 'SOCIAL', '4.5', '66577313', 'Varies with device', '1,000,000,000+', 'Free', '0', 'Teen', 'Social', 'July 31, 2018', 'Varies with device', 'Varies with device']\n",
      "['Instagram', 'SOCIAL', '4.5', '66509917', 'Varies with device', '1,000,000,000+', 'Free', '0', 'Teen', 'Social', 'July 31, 2018', 'Varies with device', 'Varies with device']\n"
     ]
    }
   ],
   "source": [
    "#The following code is to confirm whether any duplicates are present\n",
    "for duplicate in android:\n",
    "    if duplicate[0] == \"Instagram\":\n",
    "        print(duplicate)"
   ]
  },
  {
   "cell_type": "code",
   "execution_count": 6,
   "metadata": {
    "collapsed": false
   },
   "outputs": [
    {
     "name": "stdout",
     "output_type": "stream",
     "text": [
      "Number of unique apps :  9659\n",
      "\n",
      "\n",
      "Number of duplicate apps :  1181\n"
     ]
    }
   ],
   "source": [
    "#Since duplicates are present, we are segregating unique apps and\n",
    "#duplicate apps\n",
    "unique_apps = []\n",
    "duplicate_apps = []\n",
    "for app in android:\n",
    "    app_name = app[0]\n",
    "    if app_name in unique_apps:\n",
    "        duplicate_apps.append(app_name)\n",
    "    else:\n",
    "        unique_apps.append(app_name)\n",
    "        \n",
    "print(\"Number of unique apps : \", len(unique_apps))\n",
    "print(\"\\n\")\n",
    "print(\"Number of duplicate apps : \", len(duplicate_apps))"
   ]
  },
  {
   "cell_type": "markdown",
   "metadata": {},
   "source": [
    "**Note:** Duplicates wont be deleted randomly. It will be deleted after further analysis.\n",
    "\n",
    "While analysing the duplicates of **Instagram** app, it is found that only the **number of reviews** column is differing. So the data must have been collected at different time intervals. So the list with maximum number of reviews will be retained and the remaing duplicates will be deleted. This is applicable not only for **Instagram**, it is applicable to all apps that have duplicates."
   ]
  },
  {
   "cell_type": "code",
   "execution_count": 7,
   "metadata": {
    "collapsed": false
   },
   "outputs": [
    {
     "data": {
      "text/plain": [
       "9659"
      ]
     },
     "execution_count": 7,
     "metadata": {},
     "output_type": "execute_result"
    }
   ],
   "source": [
    "#Dictionary is used to segregate apps with highest number \n",
    "#of review. If duplicates are present the app with highest\n",
    "#number of review will overide the previously existing one.\n",
    "reviews_max = {}\n",
    "for app in android:\n",
    "    name = app[0]\n",
    "    n_reviews = float(app[3])\n",
    "    if name not in reviews_max:\n",
    "        reviews_max[name] = n_reviews\n",
    "    elif reviews_max[name] < n_reviews:\n",
    "        reviews_max[name] = n_reviews\n",
    "        \n",
    "len(reviews_max)"
   ]
  },
  {
   "cell_type": "markdown",
   "metadata": {},
   "source": [
    "The dictionary **(reviews_max)** will be containg the app name (Key) and the highest number of reviews (value) that the app recieved. \n",
    "\n",
    " We will loop through the android dataset. Only if the number of reviews in the dataset and the dictionary value matches, we will append the corresponding app detail to a new list **(android_clean)**. Another list **(already_added)** is defined to see the list of apps that are added."
   ]
  },
  {
   "cell_type": "code",
   "execution_count": 8,
   "metadata": {
    "collapsed": false
   },
   "outputs": [
    {
     "data": {
      "text/plain": [
       "9659"
      ]
     },
     "execution_count": 8,
     "metadata": {},
     "output_type": "execute_result"
    }
   ],
   "source": [
    "android_clean = []\n",
    "already_added = []\n",
    "for app_info in android:\n",
    "    name = app_info[0]\n",
    "    n_reviews = float(app_info[3])\n",
    "    if n_reviews == reviews_max[name] and name not in already_added:\n",
    "        android_clean.append(app_info)\n",
    "        already_added.append(name)\n",
    "        \n",
    "len(android_clean)"
   ]
  },
  {
   "cell_type": "markdown",
   "metadata": {},
   "source": [
    "#### Removal of other language character from dataset "
   ]
  },
  {
   "cell_type": "code",
   "execution_count": 9,
   "metadata": {
    "collapsed": false
   },
   "outputs": [],
   "source": [
    "def is_english(app_name):\n",
    "    count = 0\n",
    "    for character in app_name:\n",
    "        if ord(character) > 127:\n",
    "            count += 1\n",
    "# Inorder to prevent the loss of data which have english characters\n",
    "# with emoji or any other special characters, we are setting as\n",
    "# the minimum other language count as 3 \n",
    "    if count>3:\n",
    "        return False\n",
    "    \n",
    "    return True        "
   ]
  },
  {
   "cell_type": "code",
   "execution_count": 10,
   "metadata": {
    "collapsed": false
   },
   "outputs": [
    {
     "data": {
      "text/plain": [
       "True"
      ]
     },
     "execution_count": 10,
     "metadata": {},
     "output_type": "execute_result"
    }
   ],
   "source": [
    "#is_english('Instagram')\n",
    "#is_english('爱奇艺PPS -《欢乐颂2》电视剧热播')\n",
    "is_english('Docs To Go™ Free Office Suite')\n",
    "#is_english('Instachat 😜')"
   ]
  },
  {
   "cell_type": "code",
   "execution_count": 11,
   "metadata": {
    "collapsed": false,
    "scrolled": true
   },
   "outputs": [
    {
     "name": "stdout",
     "output_type": "stream",
     "text": [
      "['Photo Editor & Candy Camera & Grid & ScrapBook', 'ART_AND_DESIGN', '4.1', '159', '19M', '10,000+', 'Free', '0', 'Everyone', 'Art & Design', 'January 7, 2018', '1.0.0', '4.0.3 and up']\n",
      "\n",
      "\n",
      "['U Launcher Lite – FREE Live Cool Themes, Hide Apps', 'ART_AND_DESIGN', '4.7', '87510', '8.7M', '5,000,000+', 'Free', '0', 'Everyone', 'Art & Design', 'August 1, 2018', '1.2.4', '4.0.3 and up']\n",
      "\n",
      "\n",
      "['Sketch - Draw & Paint', 'ART_AND_DESIGN', '4.5', '215644', '25M', '50,000,000+', 'Free', '0', 'Teen', 'Art & Design', 'June 8, 2018', 'Varies with device', '4.2 and up']\n",
      "\n",
      "\n",
      "Number of rows :  9614\n",
      "Number of columns :  13\n",
      "\n",
      "\n",
      "['284882215', 'Facebook', '389879808', 'USD', '0.0', '2974676', '212', '3.5', '3.5', '95.0', '4+', 'Social Networking', '37', '1', '29', '1']\n",
      "\n",
      "\n",
      "['389801252', 'Instagram', '113954816', 'USD', '0.0', '2161558', '1289', '4.5', '4.0', '10.23', '12+', 'Photo & Video', '37', '0', '29', '1']\n",
      "\n",
      "\n",
      "['529479190', 'Clash of Clans', '116476928', 'USD', '0.0', '2130805', '579', '4.5', '4.5', '9.24.12', '9+', 'Games', '38', '5', '18', '1']\n",
      "\n",
      "\n",
      "Number of rows :  6183\n",
      "Number of columns :  16\n"
     ]
    }
   ],
   "source": [
    "android_english = []\n",
    "iOS_english = []\n",
    "\n",
    "for app_detail in android_clean:\n",
    "    name = app_detail[0]\n",
    "    if is_english(name) == True:\n",
    "        android_english.append(app_detail)\n",
    "\n",
    "for app_detail in iOS:\n",
    "    name = app_detail[1]\n",
    "    if is_english(name) == True:\n",
    "        iOS_english.append(app_detail)\n",
    "        \n",
    "explore_data(android_english, 0, 3, True)\n",
    "print('\\n')\n",
    "explore_data(iOS_english, 0, 3, True)\n",
    " "
   ]
  },
  {
   "cell_type": "markdown",
   "metadata": {},
   "source": [
    "### Isolate Free apps\n",
    "\n",
    "Since our company is going to develop free apps for the customers,\n",
    "we are segregating the free apps in android and iOS in seperate lists. This is the last step of data cleansing. Further we are going to analyse the data of free apps (To find what kind of apps are used by the customers frequently), to develop free apps for our company to attract more customers to generate high revenue via Ads"
   ]
  },
  {
   "cell_type": "code",
   "execution_count": 12,
   "metadata": {
    "collapsed": false
   },
   "outputs": [
    {
     "name": "stdout",
     "output_type": "stream",
     "text": [
      "8864\n",
      "3222\n"
     ]
    }
   ],
   "source": [
    "android_free = []\n",
    "iOS_free = []\n",
    "\n",
    "for app_detail in android_english:\n",
    "    price = app_detail[7]\n",
    "    if price == '0':\n",
    "        android_free.append(app_detail)\n",
    "        \n",
    "for app_detail in iOS_english:\n",
    "    price = app_detail[4]\n",
    "    if price == '0.0':\n",
    "        iOS_free.append(app_detail)\n",
    "        \n",
    "print(len(android_free))\n",
    "print(len(iOS_free))"
   ]
  },
  {
   "cell_type": "markdown",
   "metadata": {
    "collapsed": true
   },
   "source": [
    "## Strategy \n",
    "\n",
    "The main objective of our app development is to generate more revenue through Ads in both Android & iOS market.\n",
    "\n",
    "By analysing the dataset we are going to develop an app in a genre that has maximum number of downloads. If the download is more the revenue through Ads will be high.\n",
    "\n",
    "1. So i|nitially we are going to build a lite version of an app and deploy it in Google Play Store\n",
    "2. Monitor the performance and revenue for the next 6 months.\n",
    "3. If the performance and revenue is satisfactory, we will be upgrading the app and deploy it in App Store also."
   ]
  },
  {
   "cell_type": "markdown",
   "metadata": {},
   "source": [
    "## Categorizing data based on useful columns\n",
    "\n",
    "Based on the columns, we are going to create dictionaries that are useful for analysis. Based on the coloumn header, **Category** and **Genre** columns in Android dataset and **Prime Genre** column in iOS data set seems to be useful.\n",
    "\n",
    "**Note:** Since sorintg doesnt work properly in dictionary (after sorting it return only the keys), we will be converting the dictionary into lists of tuples"
   ]
  },
  {
   "cell_type": "code",
   "execution_count": 13,
   "metadata": {
    "collapsed": true
   },
   "outputs": [],
   "source": [
    "\n",
    "def freq_table(dataset,index):\n",
    "    table = {}\n",
    "    table_percentage = {}\n",
    "    total = 0\n",
    "    for app_detail in dataset:\n",
    "        total += 1\n",
    "        if app_detail[index] in table:\n",
    "            table[app_detail[index]] += 1\n",
    "        else:\n",
    "            table[app_detail[index]] = 1\n",
    "    \n",
    "    for key in table:\n",
    "        percentage = (table[key] / total) * 100\n",
    "        table_percentage[key] = percentage\n",
    "        \n",
    "    return table_percentage           "
   ]
  },
  {
   "cell_type": "code",
   "execution_count": 14,
   "metadata": {
    "collapsed": true
   },
   "outputs": [],
   "source": [
    "def display_table(dataset, index):\n",
    "    table = freq_table(dataset, index)\n",
    "    table_display = []\n",
    "    for key in table:\n",
    "        key_val_as_tuple = (table[key], key)\n",
    "        table_display.append(key_val_as_tuple)\n",
    "\n",
    "    table_sorted = sorted(table_display, reverse = True)\n",
    "    for entry in table_sorted:\n",
    "        print(entry[1], ':', entry[0])"
   ]
  },
  {
   "cell_type": "code",
   "execution_count": 15,
   "metadata": {
    "collapsed": false,
    "scrolled": true
   },
   "outputs": [
    {
     "name": "stdout",
     "output_type": "stream",
     "text": [
      "Android - Category\n",
      "\n",
      "\n",
      "FAMILY : 18.907942238267147\n",
      "GAME : 9.724729241877256\n",
      "TOOLS : 8.461191335740072\n",
      "BUSINESS : 4.591606498194946\n",
      "LIFESTYLE : 3.9034296028880866\n",
      "PRODUCTIVITY : 3.892148014440433\n",
      "FINANCE : 3.7003610108303246\n",
      "MEDICAL : 3.531137184115524\n",
      "SPORTS : 3.395758122743682\n",
      "PERSONALIZATION : 3.3167870036101084\n",
      "COMMUNICATION : 3.2378158844765346\n",
      "HEALTH_AND_FITNESS : 3.0798736462093865\n",
      "PHOTOGRAPHY : 2.944494584837545\n",
      "NEWS_AND_MAGAZINES : 2.7978339350180503\n",
      "SOCIAL : 2.6624548736462095\n",
      "TRAVEL_AND_LOCAL : 2.33528880866426\n",
      "SHOPPING : 2.2450361010830324\n",
      "BOOKS_AND_REFERENCE : 2.1435018050541514\n",
      "DATING : 1.861462093862816\n",
      "VIDEO_PLAYERS : 1.7937725631768955\n",
      "MAPS_AND_NAVIGATION : 1.3989169675090252\n",
      "FOOD_AND_DRINK : 1.2409747292418771\n",
      "EDUCATION : 1.1620036101083033\n",
      "ENTERTAINMENT : 0.9589350180505415\n",
      "LIBRARIES_AND_DEMO : 0.9363718411552346\n",
      "AUTO_AND_VEHICLES : 0.9250902527075812\n",
      "HOUSE_AND_HOME : 0.8235559566787004\n",
      "WEATHER : 0.8009927797833934\n",
      "EVENTS : 0.7107400722021661\n",
      "PARENTING : 0.6543321299638989\n",
      "ART_AND_DESIGN : 0.6430505415162455\n",
      "COMICS : 0.6204873646209386\n",
      "BEAUTY : 0.5979241877256317\n",
      "\n",
      "\n",
      "Android - Genre\n",
      "\n",
      "\n",
      "Tools : 8.449909747292418\n",
      "Entertainment : 6.069494584837545\n",
      "Education : 5.347472924187725\n",
      "Business : 4.591606498194946\n",
      "Productivity : 3.892148014440433\n",
      "Lifestyle : 3.892148014440433\n",
      "Finance : 3.7003610108303246\n",
      "Medical : 3.531137184115524\n",
      "Sports : 3.463447653429603\n",
      "Personalization : 3.3167870036101084\n",
      "Communication : 3.2378158844765346\n",
      "Action : 3.1024368231046933\n",
      "Health & Fitness : 3.0798736462093865\n",
      "Photography : 2.944494584837545\n",
      "News & Magazines : 2.7978339350180503\n",
      "Social : 2.6624548736462095\n",
      "Travel & Local : 2.3240072202166067\n",
      "Shopping : 2.2450361010830324\n",
      "Books & Reference : 2.1435018050541514\n",
      "Simulation : 2.0419675090252705\n",
      "Dating : 1.861462093862816\n",
      "Arcade : 1.8501805054151623\n",
      "Video Players & Editors : 1.7712093862815883\n",
      "Casual : 1.7599277978339352\n",
      "Maps & Navigation : 1.3989169675090252\n",
      "Food & Drink : 1.2409747292418771\n",
      "Puzzle : 1.128158844765343\n",
      "Racing : 0.9927797833935018\n",
      "Role Playing : 0.9363718411552346\n",
      "Libraries & Demo : 0.9363718411552346\n",
      "Auto & Vehicles : 0.9250902527075812\n",
      "Strategy : 0.9138086642599278\n",
      "House & Home : 0.8235559566787004\n",
      "Weather : 0.8009927797833934\n",
      "Events : 0.7107400722021661\n",
      "Adventure : 0.6768953068592057\n",
      "Comics : 0.6092057761732852\n",
      "Beauty : 0.5979241877256317\n",
      "Art & Design : 0.5979241877256317\n",
      "Parenting : 0.4963898916967509\n",
      "Card : 0.45126353790613716\n",
      "Casino : 0.42870036101083037\n",
      "Trivia : 0.41741877256317694\n",
      "Educational;Education : 0.39485559566787\n",
      "Board : 0.3835740072202166\n",
      "Educational : 0.3722924187725632\n",
      "Education;Education : 0.33844765342960287\n",
      "Word : 0.2594765342960289\n",
      "Casual;Pretend Play : 0.236913357400722\n",
      "Music : 0.2030685920577617\n",
      "Racing;Action & Adventure : 0.16922382671480143\n",
      "Puzzle;Brain Games : 0.16922382671480143\n",
      "Entertainment;Music & Video : 0.16922382671480143\n",
      "Casual;Brain Games : 0.13537906137184114\n",
      "Casual;Action & Adventure : 0.13537906137184114\n",
      "Arcade;Action & Adventure : 0.12409747292418773\n",
      "Action;Action & Adventure : 0.10153429602888085\n",
      "Educational;Pretend Play : 0.09025270758122744\n",
      "Simulation;Action & Adventure : 0.078971119133574\n",
      "Parenting;Education : 0.078971119133574\n",
      "Entertainment;Brain Games : 0.078971119133574\n",
      "Board;Brain Games : 0.078971119133574\n",
      "Parenting;Music & Video : 0.06768953068592057\n",
      "Educational;Brain Games : 0.06768953068592057\n",
      "Casual;Creativity : 0.06768953068592057\n",
      "Art & Design;Creativity : 0.06768953068592057\n",
      "Education;Pretend Play : 0.056407942238267145\n",
      "Role Playing;Pretend Play : 0.04512635379061372\n",
      "Education;Creativity : 0.04512635379061372\n",
      "Role Playing;Action & Adventure : 0.033844765342960284\n",
      "Puzzle;Action & Adventure : 0.033844765342960284\n",
      "Entertainment;Creativity : 0.033844765342960284\n",
      "Entertainment;Action & Adventure : 0.033844765342960284\n",
      "Educational;Creativity : 0.033844765342960284\n",
      "Educational;Action & Adventure : 0.033844765342960284\n",
      "Education;Music & Video : 0.033844765342960284\n",
      "Education;Brain Games : 0.033844765342960284\n",
      "Education;Action & Adventure : 0.033844765342960284\n",
      "Adventure;Action & Adventure : 0.033844765342960284\n",
      "Video Players & Editors;Music & Video : 0.02256317689530686\n",
      "Sports;Action & Adventure : 0.02256317689530686\n",
      "Simulation;Pretend Play : 0.02256317689530686\n",
      "Puzzle;Creativity : 0.02256317689530686\n",
      "Music;Music & Video : 0.02256317689530686\n",
      "Entertainment;Pretend Play : 0.02256317689530686\n",
      "Casual;Education : 0.02256317689530686\n",
      "Board;Action & Adventure : 0.02256317689530686\n",
      "Video Players & Editors;Creativity : 0.01128158844765343\n",
      "Trivia;Education : 0.01128158844765343\n",
      "Travel & Local;Action & Adventure : 0.01128158844765343\n",
      "Tools;Education : 0.01128158844765343\n",
      "Strategy;Education : 0.01128158844765343\n",
      "Strategy;Creativity : 0.01128158844765343\n",
      "Strategy;Action & Adventure : 0.01128158844765343\n",
      "Simulation;Education : 0.01128158844765343\n",
      "Role Playing;Brain Games : 0.01128158844765343\n",
      "Racing;Pretend Play : 0.01128158844765343\n",
      "Puzzle;Education : 0.01128158844765343\n",
      "Parenting;Brain Games : 0.01128158844765343\n",
      "Music & Audio;Music & Video : 0.01128158844765343\n",
      "Lifestyle;Pretend Play : 0.01128158844765343\n",
      "Lifestyle;Education : 0.01128158844765343\n",
      "Health & Fitness;Education : 0.01128158844765343\n",
      "Health & Fitness;Action & Adventure : 0.01128158844765343\n",
      "Entertainment;Education : 0.01128158844765343\n",
      "Communication;Creativity : 0.01128158844765343\n",
      "Comics;Creativity : 0.01128158844765343\n",
      "Casual;Music & Video : 0.01128158844765343\n",
      "Card;Action & Adventure : 0.01128158844765343\n",
      "Books & Reference;Education : 0.01128158844765343\n",
      "Art & Design;Pretend Play : 0.01128158844765343\n",
      "Art & Design;Action & Adventure : 0.01128158844765343\n",
      "Arcade;Pretend Play : 0.01128158844765343\n",
      "Adventure;Education : 0.01128158844765343\n",
      "\n",
      "\n",
      "iOS - Prime Genre\n",
      "\n",
      "\n",
      "Games : 58.16263190564867\n",
      "Entertainment : 7.883302296710118\n",
      "Photo & Video : 4.9658597144630665\n",
      "Education : 3.662321539416512\n",
      "Social Networking : 3.2898820608317814\n",
      "Shopping : 2.60707635009311\n",
      "Utilities : 2.5139664804469275\n",
      "Sports : 2.1415270018621975\n",
      "Music : 2.0484171322160147\n",
      "Health & Fitness : 2.0173805090006205\n",
      "Productivity : 1.7380509000620732\n",
      "Lifestyle : 1.5828677839851024\n",
      "News : 1.3345747982619491\n",
      "Travel : 1.2414649286157666\n",
      "Finance : 1.1173184357541899\n",
      "Weather : 0.8690254500310366\n",
      "Food & Drink : 0.8069522036002483\n",
      "Reference : 0.5586592178770949\n",
      "Business : 0.5276225946617008\n",
      "Book : 0.4345127250155183\n",
      "Navigation : 0.186219739292365\n",
      "Medical : 0.186219739292365\n",
      "Catalogs : 0.12414649286157665\n"
     ]
    }
   ],
   "source": [
    "print('Android - Category')\n",
    "print('\\n')\n",
    "display_table(android_free,1)\n",
    "print('\\n')\n",
    "print('Android - Genre')\n",
    "print('\\n')\n",
    "display_table(android_free,9)\n",
    "print('\\n')\n",
    "print('iOS - Prime Genre')\n",
    "print('\\n')\n",
    "display_table(iOS_free,11)"
   ]
  },
  {
   "cell_type": "markdown",
   "metadata": {},
   "source": [
    "From the above analysis, we come to know that number of apps related to games and entertainment are more while practical apps are less in the iOS platform. Whereas in Android platform practical apps(Family, Tools, Business etc) seems to have a better representation. "
   ]
  },
  {
   "cell_type": "markdown",
   "metadata": {},
   "source": [
    "## Number of ratings based on genre - iOS\n",
    "\n",
    "But we can't conclude as such. Number of apps in the market based on genre doesn't implie that the number of downloads will be high. Further analysis must be done. Below we will be segregating apps based on genres and number of ratings in percentage.\n",
    "\n",
    "Number of ratings is been used because we dont have data for number of downloads in iOS dataset."
   ]
  },
  {
   "cell_type": "code",
   "execution_count": 16,
   "metadata": {
    "collapsed": false
   },
   "outputs": [
    {
     "name": "stdout",
     "output_type": "stream",
     "text": [
      "Social Networking - 71548.34905660378\n",
      "Business - 7491.117647058823\n",
      "Navigation - 86090.33333333333\n",
      "Education - 7003.983050847458\n",
      "Travel - 28243.8\n",
      "Finance - 31467.944444444445\n",
      "Lifestyle - 16485.764705882353\n",
      "Entertainment - 14029.830708661417\n",
      "Music - 57326.530303030304\n",
      "Medical - 612.0\n",
      "Shopping - 26919.690476190477\n",
      "Productivity - 21028.410714285714\n",
      "Weather - 52279.892857142855\n",
      "Health & Fitness - 23298.015384615384\n",
      "Food & Drink - 33333.92307692308\n",
      "Games - 22788.6696905016\n",
      "Photo & Video - 28441.54375\n",
      "Book - 39758.5\n",
      "Sports - 23008.898550724636\n",
      "Utilities - 18684.456790123455\n",
      "News - 21248.023255813954\n",
      "Reference - 74942.11111111111\n",
      "Catalogs - 4004.0\n"
     ]
    }
   ],
   "source": [
    "prime_genre_dict = freq_table(iOS_free,-5)\n",
    "\n",
    "for genre in prime_genre_dict:\n",
    "    total = 0\n",
    "    len_genre = 0\n",
    "    \n",
    "    for app_detail in iOS_free:\n",
    "        genre_app = app_detail[-5]\n",
    "        if genre == genre_app:\n",
    "            ratings = float(app_detail[5])\n",
    "            total += ratings\n",
    "            len_genre += 1\n",
    "    \n",
    "    average_number_of_user_ratings = total / len_genre\n",
    "    print(genre, '-' ,average_number_of_user_ratings)"
   ]
  },
  {
   "cell_type": "markdown",
   "metadata": {},
   "source": [
    "From the results above, Navigation and Social Networking have higher number of downloads. But it is dominated by giants like Google, Facebook, Twitter etc. But the others apps have a very few downloads."
   ]
  },
  {
   "cell_type": "code",
   "execution_count": 17,
   "metadata": {
    "collapsed": false
   },
   "outputs": [
    {
     "name": "stdout",
     "output_type": "stream",
     "text": [
      "Waze - GPS Navigation, Maps & Real-time Traffic : 345046\n",
      "Google Maps - Navigation & Transit : 154911\n",
      "Geocaching® : 12811\n",
      "CoPilot GPS – Car Navigation & Offline Maps : 3582\n",
      "ImmobilienScout24: Real Estate Search in Germany : 187\n",
      "Railway Route Search : 5\n"
     ]
    }
   ],
   "source": [
    "for app in iOS_free:\n",
    "    if app[-5] == 'Navigation':\n",
    "        print(app[1], ':', app[5]) # print name and number of ratings"
   ]
  },
  {
   "cell_type": "code",
   "execution_count": 18,
   "metadata": {
    "collapsed": false
   },
   "outputs": [
    {
     "name": "stdout",
     "output_type": "stream",
     "text": [
      "Facebook : 2974676\n",
      "Pinterest : 1061624\n",
      "Skype for iPhone : 373519\n",
      "Messenger : 351466\n",
      "Tumblr : 334293\n",
      "WhatsApp Messenger : 287589\n",
      "Kik : 260965\n",
      "ooVoo – Free Video Call, Text and Voice : 177501\n",
      "TextNow - Unlimited Text + Calls : 164963\n",
      "Viber Messenger – Text & Call : 164249\n",
      "Followers - Social Analytics For Instagram : 112778\n",
      "MeetMe - Chat and Meet New People : 97072\n",
      "We Heart It - Fashion, wallpapers, quotes, tattoos : 90414\n",
      "InsTrack for Instagram - Analytics Plus More : 85535\n",
      "Tango - Free Video Call, Voice and Chat : 75412\n",
      "LinkedIn : 71856\n",
      "Match™ - #1 Dating App. : 60659\n",
      "Skype for iPad : 60163\n",
      "POF - Best Dating App for Conversations : 52642\n",
      "Timehop : 49510\n",
      "Find My Family, Friends & iPhone - Life360 Locator : 43877\n",
      "Whisper - Share, Express, Meet : 39819\n",
      "Hangouts : 36404\n",
      "LINE PLAY - Your Avatar World : 34677\n",
      "WeChat : 34584\n",
      "Badoo - Meet New People, Chat, Socialize. : 34428\n",
      "Followers + for Instagram - Follower Analytics : 28633\n",
      "GroupMe : 28260\n",
      "Marco Polo Video Walkie Talkie : 27662\n",
      "Miitomo : 23965\n",
      "SimSimi : 23530\n",
      "Grindr - Gay and same sex guys chat, meet and date : 23201\n",
      "Wishbone - Compare Anything : 20649\n",
      "imo video calls and chat : 18841\n",
      "After School - Funny Anonymous School News : 18482\n",
      "Quick Reposter - Repost, Regram and Reshare Photos : 17694\n",
      "Weibo HD : 16772\n",
      "Repost for Instagram : 15185\n",
      "Live.me – Live Video Chat & Make Friends Nearby : 14724\n",
      "Nextdoor : 14402\n",
      "Followers Analytics for Instagram - InstaReport : 13914\n",
      "YouNow: Live Stream Video Chat : 12079\n",
      "FollowMeter for Instagram - Followers Tracking : 11976\n",
      "LINE : 11437\n",
      "eHarmony™ Dating App - Meet Singles : 11124\n",
      "Discord - Chat for Gamers : 9152\n",
      "QQ : 9109\n",
      "Telegram Messenger : 7573\n",
      "Weibo : 7265\n",
      "Periscope - Live Video Streaming Around the World : 6062\n",
      "Chat for Whatsapp - iPad Version : 5060\n",
      "QQ HD : 5058\n",
      "Followers Analysis Tool For Instagram App Free : 4253\n",
      "live.ly - live video streaming : 4145\n",
      "Houseparty - Group Video Chat : 3991\n",
      "SOMA Messenger : 3232\n",
      "Monkey : 3060\n",
      "Down To Lunch : 2535\n",
      "Flinch - Video Chat Staring Contest : 2134\n",
      "Highrise - Your Avatar Community : 2011\n",
      "LOVOO - Dating Chat : 1985\n",
      "PlayStation®Messages : 1918\n",
      "BOO! - Video chat camera with filters & stickers : 1805\n",
      "Qzone : 1649\n",
      "Chatous - Chat with new people : 1609\n",
      "Kiwi - Q&A : 1538\n",
      "GhostCodes - a discovery app for Snapchat : 1313\n",
      "Jodel : 1193\n",
      "FireChat : 1037\n",
      "Google Duo - simple video calling : 1033\n",
      "Fiesta by Tango - Chat & Meet New People : 885\n",
      "Google Allo — smart messaging : 862\n",
      "Peach — share vividly : 727\n",
      "Hey! VINA - Where Women Meet New Friends : 719\n",
      "Battlefield™ Companion : 689\n",
      "All Devices for WhatsApp - Messenger for iPad : 682\n",
      "Chat for Pokemon Go - GoChat : 500\n",
      "IAmNaughty – Dating App to Meet New People Online : 463\n",
      "Qzone HD : 458\n",
      "Zenly - Locate your friends in realtime : 427\n",
      "League of Legends Friends : 420\n",
      "豆瓣 : 407\n",
      "Candid - Speak Your Mind Freely : 398\n",
      "知乎 : 397\n",
      "Selfeo : 366\n",
      "Fake-A-Location Free ™ : 354\n",
      "Popcorn Buzz - Free Group Calls : 281\n",
      "Fam — Group video calling for iMessage : 279\n",
      "QQ International : 274\n",
      "Ameba : 269\n",
      "SoundCloud Pulse: for creators : 240\n",
      "Tantan : 235\n",
      "Cougar Dating & Life Style App for Mature Women : 213\n",
      "Rawr Messenger - Dab your chat : 180\n",
      "WhenToPost: Best Time to Post Photos for Instagram : 158\n",
      "Inke—Broadcast an amazing life : 147\n",
      "Mustknow - anonymous video Q&A : 53\n",
      "CTFxCmoji : 39\n",
      "Lobi : 36\n",
      "Chain: Collaborate On MyVideo Story/Group Video : 35\n",
      "botman - Real time video chat : 7\n",
      "BestieBox : 0\n",
      "MATCH ON LINE chat : 0\n",
      "niconico ch : 0\n",
      "LINE BLOG : 0\n",
      "bit-tube - Live Stream Video Chat : 0\n"
     ]
    }
   ],
   "source": [
    "for app in iOS_free:\n",
    "    if app[-5] == 'Social Networking':\n",
    "        print(app[1], ':', app[5]) # print name and number of ratings"
   ]
  },
  {
   "cell_type": "code",
   "execution_count": 19,
   "metadata": {
    "collapsed": false
   },
   "outputs": [
    {
     "name": "stdout",
     "output_type": "stream",
     "text": [
      "Starbucks : 303856\n",
      "Domino's Pizza USA : 258624\n",
      "OpenTable - Restaurant Reservations : 113936\n",
      "Allrecipes Dinner Spinner : 109349\n",
      "DoorDash - Food Delivery : 25947\n",
      "UberEATS: Uber for Food Delivery : 17865\n",
      "Postmates - Food Delivery, Faster : 9519\n",
      "Dunkin' Donuts - Get Offers, Coupons & Rewards : 9068\n",
      "Chick-fil-A : 5665\n",
      "McDonald's : 4050\n",
      "Deliveroo: Restaurant Delivery - Order Food Nearby : 1702\n",
      "SONIC Drive-In : 1645\n",
      "Nowait Guest : 1625\n",
      "7-Eleven, Inc. : 1356\n",
      "Outback : 805\n",
      "Bon Appetit : 750\n",
      "Starbucks Keyboard : 457\n",
      "Whataburger : 197\n",
      "Delish Eatmoji Keyboard : 154\n",
      "Lieferheld - Delicious food delivery service : 29\n",
      "Lieferando.de : 29\n",
      "McDo France : 22\n",
      "Chefkoch - Rezepte, Kochen, Backen & Kochbuch : 20\n",
      "Youmiam : 9\n",
      "Marmiton Twist : 2\n",
      "Open Food Facts : 1\n"
     ]
    }
   ],
   "source": [
    "for app in iOS_free:\n",
    "    if app[-5] == 'Food & Drink':\n",
    "        print(app[1], ':', app[5]) # print name and number of ratings"
   ]
  },
  {
   "cell_type": "markdown",
   "metadata": {},
   "source": [
    "So according to my suggestion, we can develop a food delivery app  covering a small region. Tieup can be made made with restaurant chains like Pizza Hut, Star Bucks and other small restaurants. Customers can be attracted by giving promotional offers, which eventually leads to more number of downloads. So food delivery is made from multiple restaurants that has been tied-up through our App. But this is based on analysing the iOS dataset. Still we have to analyse the android dataset for getting a conclusion."
   ]
  },
  {
   "cell_type": "markdown",
   "metadata": {},
   "source": [
    "## Number of downloads based on Genre - Android\n",
    "\n",
    "Same as iOS dataset, we will be be analysing the android dataset based on the **Number of downloads** coloumn based on **Category**."
   ]
  },
  {
   "cell_type": "code",
   "execution_count": 20,
   "metadata": {
    "collapsed": false
   },
   "outputs": [
    {
     "name": "stdout",
     "output_type": "stream",
     "text": [
      "1,000,000+ : 15.726534296028879\n",
      "100,000+ : 11.552346570397113\n",
      "10,000,000+ : 10.548285198555957\n",
      "10,000+ : 10.198555956678701\n",
      "1,000+ : 8.393501805054152\n",
      "100+ : 6.915613718411552\n",
      "5,000,000+ : 6.825361010830325\n",
      "500,000+ : 5.561823104693141\n",
      "50,000+ : 4.7721119133574\n",
      "5,000+ : 4.512635379061372\n",
      "10+ : 3.5424187725631766\n",
      "500+ : 3.2490974729241873\n",
      "50,000,000+ : 2.3014440433213\n",
      "100,000,000+ : 2.1322202166064983\n",
      "50+ : 1.917870036101083\n",
      "5+ : 0.78971119133574\n",
      "1+ : 0.5076714801444043\n",
      "500,000,000+ : 0.2707581227436823\n",
      "1,000,000,000+ : 0.22563176895306858\n",
      "0+ : 0.04512635379061372\n",
      "0 : 0.01128158844765343\n"
     ]
    }
   ],
   "source": [
    "#Number of installs\n",
    "display_table(android_free,5)"
   ]
  },
  {
   "cell_type": "code",
   "execution_count": 21,
   "metadata": {
    "collapsed": false
   },
   "outputs": [
    {
     "name": "stdout",
     "output_type": "stream",
     "text": [
      "PARENTING : 542603.6206896552\n",
      "ART_AND_DESIGN : 1986335.0877192982\n",
      "EDUCATION : 1833495.145631068\n",
      "FOOD_AND_DRINK : 1924897.7363636363\n",
      "BOOKS_AND_REFERENCE : 8767811.894736841\n",
      "NEWS_AND_MAGAZINES : 9549178.467741935\n",
      "FINANCE : 1387692.475609756\n",
      "TOOLS : 10801391.298666667\n",
      "FAMILY : 3695641.8198090694\n",
      "COMICS : 817657.2727272727\n",
      "AUTO_AND_VEHICLES : 647317.8170731707\n",
      "ENTERTAINMENT : 11640705.88235294\n",
      "BEAUTY : 513151.88679245283\n",
      "GAME : 15588015.603248259\n",
      "LIBRARIES_AND_DEMO : 638503.734939759\n",
      "SOCIAL : 23253652.127118643\n",
      "SHOPPING : 7036877.311557789\n",
      "PERSONALIZATION : 5201482.6122448975\n",
      "EVENTS : 253542.22222222222\n",
      "PHOTOGRAPHY : 17840110.40229885\n",
      "TRAVEL_AND_LOCAL : 13984077.710144928\n",
      "COMMUNICATION : 38456119.167247385\n",
      "PRODUCTIVITY : 16787331.344927534\n",
      "BUSINESS : 1712290.1474201474\n",
      "LIFESTYLE : 1437816.2687861272\n",
      "VIDEO_PLAYERS : 24727872.452830188\n",
      "HOUSE_AND_HOME : 1331540.5616438356\n",
      "DATING : 854028.8303030303\n",
      "HEALTH_AND_FITNESS : 4188821.9853479853\n",
      "MEDICAL : 120550.61980830671\n",
      "MAPS_AND_NAVIGATION : 4056941.7741935486\n",
      "SPORTS : 3638640.1428571427\n",
      "WEATHER : 5074486.197183099\n"
     ]
    }
   ],
   "source": [
    "category_dict = freq_table(android_free,1)\n",
    "\n",
    "for category in category_dict:\n",
    "    total = 0\n",
    "    len_category = 0\n",
    "    \n",
    "    for app_detail in android_free:\n",
    "        category_app = app_detail[1]\n",
    "        if  category == category_app:\n",
    "            number_of_installs = app_detail[5]\n",
    "            number_of_installs = number_of_installs.replace('+', '')\n",
    "            number_of_installs = number_of_installs.replace(',', '')\n",
    "            total += float(number_of_installs)\n",
    "            len_category += 1\n",
    "        \n",
    "    number_of_installs_in_percentage = total / len_category\n",
    "    print(category, ':' ,number_of_installs_in_percentage)\n",
    "            "
   ]
  },
  {
   "cell_type": "code",
   "execution_count": 22,
   "metadata": {
    "collapsed": false
   },
   "outputs": [
    {
     "name": "stdout",
     "output_type": "stream",
     "text": [
      "Easy and Fast Recipes : 50,000+\n",
      "Cookpad - FREE recipe search makes fun cooking · musical making! : 10,000,000+\n",
      "DELISH KITCHEN - FREE recipe movies make food fun and easy! : 1,000,000+\n",
      "Sumine side dish - dish recipe side dish : 10,000+\n",
      "Easy Recipes : 100,000+\n",
      "Delicious Recipes : 1,000,000+\n",
      "Tastely : 10,000,000+\n",
      "Pastry & Cooking (Without Net) : 1,000,000+\n",
      "Frigo Magic: Easy recipe idea and anti-waste : 500,000+\n",
      "McDonald's - McDonald's Japan : 10,000,000+\n",
      "Debonairs Pizza : 500,000+\n",
      "Popeyes® App : 50,000+\n",
      "Pyaterochka : 1,000,000+\n",
      "Refreshing app Free application that can use deal coupons : 1,000,000+\n",
      "Simple Recipes : 500,000+\n",
      "Grubhub: Food Delivery : 5,000,000+\n",
      "hellofood - Food Delivery : 1,000,000+\n",
      "Easy and quick desserts : 100,000+\n",
      "Domino's Pizza USA : 10,000,000+\n",
      "Chef - Recipes & Cooking : 5,000,000+\n",
      "Delivery Club-food delivery: pizza, sushi, burger, salad : 5,000,000+\n",
      "HungerStation : 1,000,000+\n",
      "Delivery yogi. : 10,000,000+\n",
      "Delivery trough - delivery trough delivery trough : 5,000,000+\n",
      "Dr. Oetker recipe ideas : 1,000,000+\n",
      "GialloZafferano: Recipes : 1,000,000+\n",
      "9th stage : 100,000+\n",
      "OpenRice : 1,000,000+\n",
      "SarashpazPapion (Cooking with Chef Bowls) : 50,000+\n",
      "Little Caesars : 500,000+\n",
      "Recipes Pastries and homemade pies More than 500 recipes for pastries : 500,000+\n",
      "Om Waleed Sweets : 100,000+\n",
      "Eat Fast Prepare \"Without Internet\" : 1,000,000+\n",
      "My Recipes Cookbook : RecetteTek : 100,000+\n",
      "Healthy Recipes Free : 100,000+\n",
      "Cookbook Recipes : 5,000,000+\n",
      "ChefTap Recipes & Grocery List : 500,000+\n",
      "Recipe Keeper : 100,000+\n",
      "My CookBook (Recipe Manager) : 1,000,000+\n",
      "50 Healthy Slow Cooker Recipes : 10,000+\n",
      "Easy Healthy Recipes : 50,000+\n",
      "Allrecipes Dinner Spinner : 5,000,000+\n",
      "My CookBook Pro (Ad Free) : 10,000+\n",
      "Paprika Recipe Manager : 50,000+\n",
      "Yummly Recipes & Shopping List : 1,000,000+\n",
      "Kitchen Stories - Recipes & Cooking : 1,000,000+\n",
      "Cookpad : 10,000,000+\n",
      "BigOven Recipes, Meal Planner, Grocery List & More : 1,000,000+\n",
      "Postmates Food Delivery: Order Eats & Alcohol : 1,000,000+\n",
      "Instacart: Grocery Delivery : 1,000,000+\n",
      "OpenTable: Restaurants Near Me : 5,000,000+\n",
      "Foursquare City Guide : 10,000,000+\n",
      "Munchery: Chef Crafted Fresh Food Delivered : 50,000+\n",
      "delivery.com: Order Food, Alcohol & Laundry : 100,000+\n",
      "Eat24 Food Delivery & Takeout : 1,000,000+\n",
      "EatStreet Food Delivery App : 100,000+\n",
      "Pizza Hut : 10,000,000+\n",
      "Caviar - Food Delivery : 100,000+\n",
      "DoorDash - Food Delivery : 1,000,000+\n",
      "Chick-fil-A : 5,000,000+\n",
      "Uber Eats: Local Food Delivery : 10,000,000+\n",
      "Seamless Food Delivery/Takeout : 1,000,000+\n",
      "Talabat: Food Delivery : 5,000,000+\n",
      "TheFork - Restaurants booking and special offers : 5,000,000+\n",
      "foodpanda - Local Food Delivery : 10,000,000+\n",
      "Zomato - Restaurant Finder and Food Delivery App : 10,000,000+\n",
      "B.GOOD : 10,000+\n",
      "Q-Tech Companion App : 10,000+\n",
      "Zaatar w Zeit : 50,000+\n",
      "AJ-COMICS : 5+\n",
      "Au Bon Pain : 10,000+\n",
      "Gâteau au yaourt : 10,000+\n",
      "AV Anthony's : 50+\n",
      "A&W Restaurants : 1,000+\n",
      "Food-Aw - Order Food Online in Aruba : 100+\n",
      "Sommelier.BG : 10+\n",
      "BG Burger : 10+\n",
      "BH Açaí : 100+\n",
      "BH Recepti : 500+\n",
      "BURGER KING® Puerto Rico : 100,000+\n",
      "Coupons for Burger King : 500+\n",
      "BeyondMenu Food Delivery : 1,000,000+\n",
      "orderin.bm : 1+\n",
      "Bar-B-Q Rib House : 50+\n",
      "Bar-B-Q Recipes : 5,000+\n",
      "Woody's Bar-B-Q : 1,000+\n",
      "Jimbo's Pit Bar B-Q : 100+\n",
      "Miller's Bar B-Q : 50+\n",
      "BAR-B-Q Recipes : 100+\n",
      "BQ Wings : 50+\n",
      "Texas Bar-B-Q Rewards : 5+\n",
      "Baskin-Robbins : 100,000+\n",
      "CJ Infinity : 10+\n",
      "McDelivery Cyprus : 10,000+\n",
      "Dairy Queen : 100,000+\n",
      "DQ Texas : 100,000+\n",
      "Coupons for Dairy Queen : 100+\n",
      "SONIC Drive-In : 1,000,000+\n",
      "McDonald's : 10,000,000+\n",
      "Whataburger : 500,000+\n",
      "Arby's : 100,000+\n",
      "Wendy’s – Food and Offers : 1,000,000+\n",
      "Dunkin' Donuts : 1,000,000+\n",
      "SUBWAY® : 1,000,000+\n",
      "Panera Bread : 1,000,000+\n",
      "IHOP® : 100,000+\n",
      "Starbucks : 10,000,000+\n",
      "3D Metal Piano Keys Keyboard Theme : 100,000+\n",
      "El Pollo Loco - Loco Rewards : 100,000+\n",
      "¿Es Vegan? : 10,000+\n",
      "Recettes Faciles et Rapides : 50,000+\n",
      "Santa Fe Espresso & News : 10+\n"
     ]
    }
   ],
   "source": [
    "for app in android_clean:\n",
    "    if app[1] == 'FOOD_AND_DRINK':\n",
    "        print(app[0], ':', app[5])"
   ]
  },
  {
   "cell_type": "markdown",
   "metadata": {},
   "source": [
    "After analysing the android dataset it is found that in both the markets, apps related to **Food and Drink** looks quite promising"
   ]
  },
  {
   "cell_type": "markdown",
   "metadata": {},
   "source": [
    "# Conclusion\n",
    "\n",
    "So through analysis, it seems like developing an app related to food delivery seems to be quite profitable. So as said earlier, app can be developed in google platform first. I fthe performance and revenue looks promising further enchancement"
   ]
  }
 ],
 "metadata": {
  "kernelspec": {
   "display_name": "Python 3",
   "language": "python",
   "name": "python3"
  },
  "language_info": {
   "codemirror_mode": {
    "name": "ipython",
    "version": 3
   },
   "file_extension": ".py",
   "mimetype": "text/x-python",
   "name": "python",
   "nbconvert_exporter": "python",
   "pygments_lexer": "ipython3",
   "version": "3.4.3"
  }
 },
 "nbformat": 4,
 "nbformat_minor": 2
}
